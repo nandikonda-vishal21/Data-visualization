{
  "nbformat": 4,
  "nbformat_minor": 0,
  "metadata": {
    "colab": {
      "name": "data-visualization-dv1.ipynb",
      "provenance": [],
      "authorship_tag": "ABX9TyN4ZbhMB5BzOc+rePqd4/ku",
      "include_colab_link": true
    },
    "kernelspec": {
      "name": "python3",
      "display_name": "Python 3"
    },
    "language_info": {
      "name": "python"
    }
  },
  "cells": [
    {
      "cell_type": "markdown",
      "metadata": {
        "id": "view-in-github",
        "colab_type": "text"
      },
      "source": [
        "<a href=\"https://colab.research.google.com/github/nandikonda-vishal21/Data-visualization/blob/main/data_visualization_dv1.ipynb\" target=\"_parent\"><img src=\"https://colab.research.google.com/assets/colab-badge.svg\" alt=\"Open In Colab\"/></a>"
      ]
    },
    {
      "cell_type": "markdown",
      "metadata": {
        "id": "GE-PL3RF8rGg"
      },
      "source": [
        "**Why Learn Data Visualization?**\n",
        "\n",
        "If you do any work with data, whether that be through business, machine learning, or artificial intelligence, you're going to want to know about how to put together **visualizations**. Visualizations serve two major purposes in the data analysis process.\n",
        "\n",
        "First of all, visualizations can be used during your initial data exploration to help you make insights into your data. **Visualizations can reveal patterns in the data that statistics alone might not provide**. They can also provide an intuition about the structure of your data. In addition to answering your research questions, visualizations might promote new questions for further investigation.\n",
        "\n",
        "Secondly, visualizations can help you convey your insights to others through explanatory plots. By generating new visualizations or polishing and refining the plots created during exploration, **you can more easily show others what you found in your analysis**. A good visualization can communicate your findings quickly and succinctly.\n",
        "\n",
        "**What is Tidy Data?**\n",
        "\n",
        "Usually, it is expected that your data is organized in some kind of tidy format. In short, a tidy dataset is a **tabular dataset** where:\n",
        "\n",
        "**each variable is a column**\n",
        "\n",
        "**each observation is a row** \n",
        "\n",
        "each type of observational unit is a table The first three images below depict a tidy dataset. This tidy dataset is in the field of healthcare and has two tables: one for patients (with their patient ID, name, and age) and one for treatments (with patient ID, what drug that patient is taking, and the dose of that drug).\n"
      ]
    },
    {
      "cell_type": "markdown",
      "metadata": {
        "id": "OzGyuyNx90Pp"
      },
      "source": [
        "**The Four Levels of Measurement:**\n",
        "\n",
        "In order to choose an appropriate plot type or method of analysis for your data, you need to understand the types of data you have. One common method divides the data into four levels of measurement:\n",
        "\n",
        "**Qualitative or categorical types (non-numeric types)**\n",
        "\n",
        "**Nominal data:** pure labels without inherent order (no label is intrinsically greater or less than any other).eg: Gender, Marital Status, Breakfast Items\n",
        "\n",
        "**Ordinal data:** labels with an intrinsic order or ranking (comparison operations can be made between values, but the magnitude of differences are not be well-defined).eg: Letter Grade, Survey Rating\n",
        "Quantitative or numeric types\n",
        "\n",
        "**Interval data:** numeric values where absolute differences are meaningful (addition and subtraction operations can be made).\n",
        "\n",
        "**Ratio data:** numeric values where relative differences are meaningful (multiplication and division operations can be made)\n",
        "All quantitative-type variables also come in one of two varieties: discrete and continuous.\n",
        "\n",
        "**Discrete quantitative variables** can only take on a specific set values at some maximum level of precision.eg:Pages in a Book, Trees in Yard, Dogs at a Coffee Shop\n",
        "\n",
        "**Continuous quantitative variables** can (hypothetically) take on values to any level of precision.eg:Height, Age, Income\n",
        "\n",
        "Distinguishing between continuous and discrete can be a little tricky – a rule of thumb is if there are few levels, **and values can't be subdivided into further units, then it's discrete. Otherwise, it's continuous**. If you have a scale that can only take natural number values between 1 and 5, that's discrete. A quantity that can be measured to two digits, e.g. 2.72, is best characterized as continuous, since we might hypothetically be able to measure to even more digits, e.g. 2.718. A tricky case like test scores measured between 0 and 100 can only be divided down to single integers, making it initially seem discrete. But since there are so many values, such a feature is usually considered as continuous.\n",
        "\n",
        "When exploring your data, the **most important thing** to consider first is whether your data is **qualitative or quantitative**"
      ]
    },
    {
      "cell_type": "code",
      "metadata": {
        "id": "yCKc7jHo-4ip"
      },
      "source": [
        "import numpy as np\n",
        "import pandas as pd\n",
        "import matplotlib.pyplot as plt\n",
        "import seaborn as sb\n",
        "\n",
        "%matplotlib inline"
      ],
      "execution_count": 1,
      "outputs": []
    },
    {
      "cell_type": "code",
      "metadata": {
        "colab": {
          "base_uri": "https://localhost:8080/",
          "height": 212
        },
        "id": "35-HgrRX_BBz",
        "outputId": "940ae886-e0fd-44ad-8459-64dff79cd073"
      },
      "source": [
        "pokemon = pd.read_csv('pokemon.csv')\n",
        "print(pokemon.shape)\n",
        "pokemon.head()"
      ],
      "execution_count": 2,
      "outputs": [
        {
          "output_type": "stream",
          "text": [
            "(807, 14)\n"
          ],
          "name": "stdout"
        },
        {
          "output_type": "execute_result",
          "data": {
            "text/html": [
              "<div>\n",
              "<style scoped>\n",
              "    .dataframe tbody tr th:only-of-type {\n",
              "        vertical-align: middle;\n",
              "    }\n",
              "\n",
              "    .dataframe tbody tr th {\n",
              "        vertical-align: top;\n",
              "    }\n",
              "\n",
              "    .dataframe thead th {\n",
              "        text-align: right;\n",
              "    }\n",
              "</style>\n",
              "<table border=\"1\" class=\"dataframe\">\n",
              "  <thead>\n",
              "    <tr style=\"text-align: right;\">\n",
              "      <th></th>\n",
              "      <th>id</th>\n",
              "      <th>species</th>\n",
              "      <th>generation_id</th>\n",
              "      <th>height</th>\n",
              "      <th>weight</th>\n",
              "      <th>base_experience</th>\n",
              "      <th>type_1</th>\n",
              "      <th>type_2</th>\n",
              "      <th>hp</th>\n",
              "      <th>attack</th>\n",
              "      <th>defense</th>\n",
              "      <th>speed</th>\n",
              "      <th>special-attack</th>\n",
              "      <th>special-defense</th>\n",
              "    </tr>\n",
              "  </thead>\n",
              "  <tbody>\n",
              "    <tr>\n",
              "      <th>0</th>\n",
              "      <td>1</td>\n",
              "      <td>bulbasaur</td>\n",
              "      <td>1</td>\n",
              "      <td>0.7</td>\n",
              "      <td>6.9</td>\n",
              "      <td>64</td>\n",
              "      <td>grass</td>\n",
              "      <td>poison</td>\n",
              "      <td>45</td>\n",
              "      <td>49</td>\n",
              "      <td>49</td>\n",
              "      <td>45</td>\n",
              "      <td>65</td>\n",
              "      <td>65</td>\n",
              "    </tr>\n",
              "    <tr>\n",
              "      <th>1</th>\n",
              "      <td>2</td>\n",
              "      <td>ivysaur</td>\n",
              "      <td>1</td>\n",
              "      <td>1.0</td>\n",
              "      <td>13.0</td>\n",
              "      <td>142</td>\n",
              "      <td>grass</td>\n",
              "      <td>poison</td>\n",
              "      <td>60</td>\n",
              "      <td>62</td>\n",
              "      <td>63</td>\n",
              "      <td>60</td>\n",
              "      <td>80</td>\n",
              "      <td>80</td>\n",
              "    </tr>\n",
              "    <tr>\n",
              "      <th>2</th>\n",
              "      <td>3</td>\n",
              "      <td>venusaur</td>\n",
              "      <td>1</td>\n",
              "      <td>2.0</td>\n",
              "      <td>100.0</td>\n",
              "      <td>236</td>\n",
              "      <td>grass</td>\n",
              "      <td>poison</td>\n",
              "      <td>80</td>\n",
              "      <td>82</td>\n",
              "      <td>83</td>\n",
              "      <td>80</td>\n",
              "      <td>100</td>\n",
              "      <td>100</td>\n",
              "    </tr>\n",
              "    <tr>\n",
              "      <th>3</th>\n",
              "      <td>4</td>\n",
              "      <td>charmander</td>\n",
              "      <td>1</td>\n",
              "      <td>0.6</td>\n",
              "      <td>8.5</td>\n",
              "      <td>62</td>\n",
              "      <td>fire</td>\n",
              "      <td>NaN</td>\n",
              "      <td>39</td>\n",
              "      <td>52</td>\n",
              "      <td>43</td>\n",
              "      <td>65</td>\n",
              "      <td>60</td>\n",
              "      <td>50</td>\n",
              "    </tr>\n",
              "    <tr>\n",
              "      <th>4</th>\n",
              "      <td>5</td>\n",
              "      <td>charmeleon</td>\n",
              "      <td>1</td>\n",
              "      <td>1.1</td>\n",
              "      <td>19.0</td>\n",
              "      <td>142</td>\n",
              "      <td>fire</td>\n",
              "      <td>NaN</td>\n",
              "      <td>58</td>\n",
              "      <td>64</td>\n",
              "      <td>58</td>\n",
              "      <td>80</td>\n",
              "      <td>80</td>\n",
              "      <td>65</td>\n",
              "    </tr>\n",
              "  </tbody>\n",
              "</table>\n",
              "</div>"
            ],
            "text/plain": [
              "   id     species  generation_id  ...  speed  special-attack  special-defense\n",
              "0   1   bulbasaur              1  ...     45              65               65\n",
              "1   2     ivysaur              1  ...     60              80               80\n",
              "2   3    venusaur              1  ...     80             100              100\n",
              "3   4  charmander              1  ...     65              60               50\n",
              "4   5  charmeleon              1  ...     80              80               65\n",
              "\n",
              "[5 rows x 14 columns]"
            ]
          },
          "metadata": {
            "tags": []
          },
          "execution_count": 2
        }
      ]
    },
    {
      "cell_type": "markdown",
      "metadata": {
        "id": "YG-VMhuF_hoO"
      },
      "source": [
        "**Bar Charts:**\n",
        "\n",
        "A bar chart is used to depict the **distribution of a categorical variable**. In a bar chart, each level of the categorical variable is depicted with a bar, whose height indicates the frequency of data points that take on that level. A basic bar chart of frequencies can be created through the use of **seaborn's countplot** function:"
      ]
    },
    {
      "cell_type": "code",
      "metadata": {
        "colab": {
          "base_uri": "https://localhost:8080/",
          "height": 280
        },
        "id": "iz0APAUD_sc4",
        "outputId": "846ca692-9f7f-4a05-e7ce-2ec0e928a622"
      },
      "source": [
        "sb.countplot(data = pokemon, x = 'generation_id');"
      ],
      "execution_count": 3,
      "outputs": [
        {
          "output_type": "display_data",
          "data": {
            "image/png": "[encoded data removed]",
            "text/plain": [
              "<Figure size 432x288 with 1 Axes>"
            ]
          },
          "metadata": {
            "tags": [],
            "needs_background": "light"
          }
        }
      ]
    },
    {
      "cell_type": "markdown",
      "metadata": {
        "id": "HgivHLrh_6Lw"
      },
      "source": [
        "\n",
        "By default, each category is given a different color. This might come in handy for building associations between these category labels and encodings in plots with more variables. Otherwise, it's a good idea to simplify the plot and reduce unnecessary distractions by plotting all bars in the same color. This can be set using the **\"color\"** parameter:"
      ]
    },
    {
      "cell_type": "code",
      "metadata": {
        "colab": {
          "base_uri": "https://localhost:8080/",
          "height": 297
        },
        "id": "5kQZ7IkfAAWH",
        "outputId": "c392d78f-017b-4a2b-f9db-5f4ca2b6d0cb"
      },
      "source": [
        "base_color = sb.color_palette()[0]\n",
        "sb.countplot(data = pokemon, x = 'generation_id', color = base_color)"
      ],
      "execution_count": 4,
      "outputs": [
        {
          "output_type": "execute_result",
          "data": {
            "text/plain": [
              "<matplotlib.axes._subplots.AxesSubplot at 0x7f7297b46a10>"
            ]
          },
          "metadata": {
            "tags": []
          },
          "execution_count": 4
        },
        {
          "output_type": "display_data",
          "data": {
            "image/png": "[encoded data removed]",
            "text/plain": [
              "<Figure size 432x288 with 1 Axes>"
            ]
          },
          "metadata": {
            "tags": [],
            "needs_background": "light"
          }
        }
      ]
    },
    {
      "cell_type": "markdown",
      "metadata": {
        "id": "bTzGKyV1ANlq"
      },
      "source": [
        "**color_palette returns a list of RGB tuples**. Each tuple consists of three digits specifying the red, green, and blue channel values to specify a color. Calling this function without any parameters returns the current / default palette, and we take the** first color to be the color for all bars**.\n",
        "\n",
        "One thing that we might want to do with a bar chart is to sort the data in some way. For **nominal-type data**, one common operation is to sort the data in terms of frequency. With our data in a pandas DataFrame, we can use various DataFrame methods to compute and extract an ordering, then set that ordering on the \"order\" parameter:"
      ]
    },
    {
      "cell_type": "code",
      "metadata": {
        "colab": {
          "base_uri": "https://localhost:8080/",
          "height": 297
        },
        "id": "fiM6Yj8zAeYn",
        "outputId": "03fbeaf7-dcc4-421f-836c-d15ca58fc46e"
      },
      "source": [
        "base_color = sb.color_palette()[1]\n",
        "gen_order = pokemon['generation_id'].value_counts().index\n",
        "sb.countplot(data = pokemon, x = 'generation_id', color = base_color, \n",
        "              order = gen_order)"
      ],
      "execution_count": 5,
      "outputs": [
        {
          "output_type": "execute_result",
          "data": {
            "text/plain": [
              "<matplotlib.axes._subplots.AxesSubplot at 0x7f7297550a50>"
            ]
          },
          "metadata": {
            "tags": []
          },
          "execution_count": 5
        },
        {
          "output_type": "display_data",
          "data": {
            "image/png": "[encoded data removed]",
            "text/plain": [
              "<Figure size 432x288 with 1 Axes>"
            ]
          },
          "metadata": {
            "tags": [],
            "needs_background": "light"
          }
        }
      ]
    },
    {
      "cell_type": "markdown",
      "metadata": {
        "id": "5xlE8FY3AucD"
      },
      "source": [
        "**Additional Variations**\n",
        "\n",
        "If you have a lot of category levels, or the category names are long, then you might end up with overcrowding of the tick labels."
      ]
    },
    {
      "cell_type": "code",
      "metadata": {
        "colab": {
          "base_uri": "https://localhost:8080/",
          "height": 297
        },
        "id": "lU469lgHAyjx",
        "outputId": "f7c80f26-65d3-429a-f443-b4d859300abe"
      },
      "source": [
        "base_color = sb.color_palette()[2]\n",
        "sb.countplot(data = pokemon, x = 'type_1', color = base_color)"
      ],
      "execution_count": 6,
      "outputs": [
        {
          "output_type": "execute_result",
          "data": {
            "text/plain": [
              "<matplotlib.axes._subplots.AxesSubplot at 0x7f72974e3890>"
            ]
          },
          "metadata": {
            "tags": []
          },
          "execution_count": 6
        },
        {
          "output_type": "display_data",
          "data": {
            "image/png": "[encoded data removed]",
            "text/plain": [
              "<Figure size 432x288 with 1 Axes>"
            ]
          },
          "metadata": {
            "tags": [],
            "needs_background": "light"
          }
        }
      ]
    },
    {
      "cell_type": "markdown",
      "metadata": {
        "id": "u9rsHcfYCWso"
      },
      "source": [
        "one way to deal with it is that, you can use matplotlib's xticks function and its **\"rotation\"** parameter to change the orientation in which the labels will be depicted (as degrees counter-clockwise from horizontal):"
      ]
    },
    {
      "cell_type": "code",
      "metadata": {
        "colab": {
          "base_uri": "https://localhost:8080/",
          "height": 309
        },
        "id": "J5xArDY4Ca5u",
        "outputId": "917e6102-2ae5-4c93-a1c0-675124873290"
      },
      "source": [
        "base_color = sb.color_palette()[2]\n",
        "sb.countplot(data = pokemon, x = 'type_1', color = base_color)\n",
        "plt.xticks(rotation=90);"
      ],
      "execution_count": 7,
      "outputs": [
        {
          "output_type": "display_data",
          "data": {
            "image/png": "[encoded data removed]",
            "text/plain": [
              "<Figure size 432x288 with 1 Axes>"
            ]
          },
          "metadata": {
            "tags": [],
            "needs_background": "light"
          }
        }
      ]
    },
    {
      "cell_type": "markdown",
      "metadata": {
        "id": "73mvAAimCpaU"
      },
      "source": [
        "Another way to address this is through creation of a horizontal bar chart. In a horizontal bar chart, it is the length of each bar that indicates frequency, rather than the height. In the code, instead of setting the data or variable on the \"x\" parameter, you can set the variable to be plotted on the parameter \"y\":"
      ]
    },
    {
      "cell_type": "code",
      "metadata": {
        "colab": {
          "base_uri": "https://localhost:8080/",
          "height": 296
        },
        "id": "w3EyogzcCrns",
        "outputId": "2c97268a-8472-40b1-d192-851c66bbd5d6"
      },
      "source": [
        "base_color = sb.color_palette()[2]\n",
        "sb.countplot(data = pokemon, y = 'type_1', color = base_color)"
      ],
      "execution_count": 8,
      "outputs": [
        {
          "output_type": "execute_result",
          "data": {
            "text/plain": [
              "<matplotlib.axes._subplots.AxesSubplot at 0x7f7297baee90>"
            ]
          },
          "metadata": {
            "tags": []
          },
          "execution_count": 8
        },
        {
          "output_type": "display_data",
          "data": {
            "image/png": "[encoded data removed]",
            "text/plain": [
              "<Figure size 432x288 with 1 Axes>"
            ]
          },
          "metadata": {
            "tags": [],
            "needs_background": "light"
          }
        }
      ]
    },
    {
      "cell_type": "markdown",
      "metadata": {
        "id": "cY-mhMBKC83a"
      },
      "source": [
        "**Count Missing Data:**\n",
        "\n",
        "One interesting way we can apply bar charts is through the visualization of missing data. We can use pandas functions to create a table with the number of missing values in each column."
      ]
    },
    {
      "cell_type": "code",
      "metadata": {
        "colab": {
          "base_uri": "https://localhost:8080/"
        },
        "id": "dNAsJP_ODB45",
        "outputId": "6cc21d94-76a7-4f3e-95b6-acb50fe971da"
      },
      "source": [
        "pokemon.isna().sum()"
      ],
      "execution_count": 9,
      "outputs": [
        {
          "output_type": "execute_result",
          "data": {
            "text/plain": [
              "id                   0\n",
              "species              0\n",
              "generation_id        0\n",
              "height               0\n",
              "weight               0\n",
              "base_experience      0\n",
              "type_1               0\n",
              "type_2             402\n",
              "hp                   0\n",
              "attack               0\n",
              "defense              0\n",
              "speed                0\n",
              "special-attack       0\n",
              "special-defense      0\n",
              "dtype: int64"
            ]
          },
          "metadata": {
            "tags": []
          },
          "execution_count": 9
        }
      ]
    },
    {
      "cell_type": "markdown",
      "metadata": {
        "id": "wskcRKUxDN2E"
      },
      "source": [
        "What if we want to visualize these missing value counts? We could treat the variable names as levels of a categorical variable, and create a resulting bar plot. However, since the data is not in its tidy, unsummarized form, we need to make use of a different plotting function. Seaborn's barplot function is built to depict a summary of one quantitative variable against levels of a second, qualitative variable, but can be used here."
      ]
    },
    {
      "cell_type": "code",
      "metadata": {
        "colab": {
          "base_uri": "https://localhost:8080/",
          "height": 393
        },
        "id": "zTjKaaEUDQD2",
        "outputId": "1284afc6-17d9-4f3b-daee-1d0e074e8665"
      },
      "source": [
        "na_counts = pokemon.isna().sum()\n",
        "base_color = sb.color_palette()[0]\n",
        "sb.barplot(na_counts.index.values, na_counts, color = base_color)\n",
        "plt.xticks(rotation=90);"
      ],
      "execution_count": 10,
      "outputs": [
        {
          "output_type": "stream",
          "text": [
            "/usr/local/lib/python3.7/dist-packages/seaborn/_decorators.py:43: FutureWarning: Pass the following variables as keyword args: x, y. From version 0.12, the only valid positional argument will be `data`, and passing other arguments without an explicit keyword will result in an error or misinterpretation.\n",
            "  FutureWarning\n"
          ],
          "name": "stderr"
        },
        {
          "output_type": "display_data",
          "data": {
            "image/png": "[encoded data removed]",
            "text/plain": [
              "<Figure size 432x288 with 1 Axes>"
            ]
          },
          "metadata": {
            "tags": [],
            "needs_background": "light"
          }
        }
      ]
    }
  ]
}